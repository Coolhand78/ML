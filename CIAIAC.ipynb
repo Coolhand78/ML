{
  "nbformat": 4,
  "nbformat_minor": 0,
  "metadata": {
    "colab": {
      "name": "CIAIAC.ipynb",
      "provenance": [],
      "authorship_tag": "ABX9TyMMlVHGsYCwY6OHE7fsr1DV",
      "include_colab_link": true
    },
    "kernelspec": {
      "name": "python3",
      "display_name": "Python 3"
    }
  },
  "cells": [
    {
      "cell_type": "markdown",
      "metadata": {
        "id": "view-in-github",
        "colab_type": "text"
      },
      "source": [
        "<a href=\"https://colab.research.google.com/github/Coolhand78/ML/blob/main/CIAIAC.ipynb\" target=\"_parent\"><img src=\"https://colab.research.google.com/assets/colab-badge.svg\" alt=\"Open In Colab\"/></a>"
      ]
    },
    {
      "cell_type": "code",
      "metadata": {
        "id": "VAlzWG1HBW0u"
      },
      "source": [
        "import pandas as pd\r\n",
        "from bs4 import BeautifulSoup\r\n",
        "import requests\r\n",
        "import re\r\n"
      ],
      "execution_count": 1,
      "outputs": []
    },
    {
      "cell_type": "code",
      "metadata": {
        "id": "DNs2oE4jBfK_"
      },
      "source": [
        "url = 'https://www.mitma.gob.es/organos-colegiados/ciaiac/ultraligeros-motorizados-ulm/2020'"
      ],
      "execution_count": 2,
      "outputs": []
    },
    {
      "cell_type": "code",
      "metadata": {
        "id": "HdTffnGnB0-u"
      },
      "source": [
        "def get_data(direccion):\r\n",
        "  response = requests.get(direccion)\r\n",
        "  html = response.text\r\n",
        "  soup = BeautifulSoup(html, 'html.parser')\r\n",
        "\r\n",
        "  master_list = []\r\n",
        "\r\n",
        "  for i in range(1,len(soup.find_all('h2'))):\r\n",
        "    dicc={}\r\n",
        "    s = soup.find_all('h2')[i]\r\n",
        "    s1 = s.text.split('. ')\r\n",
        "    dicc['Fecha']=s1[0]\r\n",
        "    dicc['Aeronave']=s1[1].split(', ')[0]\r\n",
        "    dicc['Matricula']=s1[1].split(', ')[1].strip('matrícula ')\r\n",
        "    dicc['Lugar']=s1[2]\r\n",
        "    dicc['Ref']=s1[4]\r\n",
        "\r\n",
        "    try:\r\n",
        "      s2 = soup.findAll('a', attrs={'href': re.compile(\"^https://\")})[i+5]\r\n",
        "      s2 = s2.get('href')\r\n",
        "      dicc['Link']=(s2)\r\n",
        "    except:\r\n",
        "      dicc['Link']=('No link')\r\n",
        "  \r\n",
        "    master_list.append(dicc)\r\n",
        "\r\n",
        "  return (master_list)\r\n",
        "  \r\n"
      ],
      "execution_count": 22,
      "outputs": []
    },
    {
      "cell_type": "code",
      "metadata": {
        "colab": {
          "base_uri": "https://localhost:8080/"
        },
        "id": "O_HEXDIsE9mO",
        "outputId": "1891cefd-8af9-498f-df05-10bc532eaf5d"
      },
      "source": [
        "get_data('https://www.mitma.gob.es/organos-colegiados/ciaiac/ultraligeros-motorizados-ulm/2020')"
      ],
      "execution_count": 25,
      "outputs": [
        {
          "output_type": "execute_result",
          "data": {
            "text/plain": [
              "[{'Aeronave': 'Aeronave CEDIMEX S-12 AIRAILE',\n",
              "  'Fecha': '05 de enero de 2020',\n",
              "  'Link': 'https://www.mitma.gob.es/organos-colegiados/ciaiac/ultraligeros-motorizados-ulm/2020/ulm-0012020',\n",
              "  'Lugar': 'Término municipal de Ulldecona (Tarragona)',\n",
              "  'Matricula': 'EC-CA1',\n",
              "  'Ref': 'ULM A-001/2020'},\n",
              " {'Aeronave': 'Aeronave CZAWSPORTCRUISER (construcción por aficionado)',\n",
              "  'Fecha': '05 de enero de 2020',\n",
              "  'Link': 'https://www.mitma.gob.es/organos-colegiados/ciaiac/ultraligeros-motorizados-ulm/2020/a-002_2020',\n",
              "  'Lugar': 'Aeródromo del Salobral (Ávila)',\n",
              "  'Matricula': 'EC-XSI',\n",
              "  'Ref': 'ULM A-002/2020'},\n",
              " {'Aeronave': 'Aeronave CICLÓN (construcción por aficionado)',\n",
              "  'Fecha': '30 de enero de 2020',\n",
              "  'Link': 'https://www.mitma.gob.es/recursos_mfom/comodin/recursos/ulm_a-003-2020_informe_final.pdf',\n",
              "  'Lugar': 'Término municipal de Manacor (Illes Balears)',\n",
              "  'Matricula': 'EC-XPH',\n",
              "  'Ref': 'ULM A-003/2020'},\n",
              " {'Aeronave': 'Aeronave Ekolot KR-030 Topaz (construcción por aficionado)',\n",
              "  'Fecha': '19 de febrero de 2020',\n",
              "  'Link': 'https://www.mitma.gob.es/recursos_mfom/comodin/recursos/ulm_a-004-2020_informe_final_nm.pdf',\n",
              "  'Lugar': 'Aeródromo de Casarrubios del Monte (Toledo)',\n",
              "  'Matricula': 'EC-XRD',\n",
              "  'Ref': 'ULM A-004/2020'},\n",
              " {'Aeronave': 'Aeronave Tecnam P-92-ECHO',\n",
              "  'Fecha': '23 de febrero de 2020',\n",
              "  'Link': 'https://www.mitma.gob.es/organos-colegiados/ciaiac/ultraligeros-motorizados-ulm/2020/ulm-0052020',\n",
              "  'Lugar': 'Aeródromo de Casarrubios del Monte (Toledo)',\n",
              "  'Matricula': 'EC-KNB',\n",
              "  'Ref': 'ULM A-005/2020'},\n",
              " {'Aeronave': 'Aeronave AEROMORAGON modelo M-1',\n",
              "  'Fecha': '30 de mayo de 2020',\n",
              "  'Link': 'https://www.mitma.gob.es/recursos_mfom/comodin/recursos/ulm_a-006-2020_informe_final.pdf',\n",
              "  'Lugar': 'Aeródromo Linares (Jaén)',\n",
              "  'Matricula': 'EC-EA3',\n",
              "  'Ref': 'ULM A-006/2020'},\n",
              " {'Aeronave': 'Aeronave TECNAM modelo P2002 SIERRA',\n",
              "  'Fecha': '21 de junio de 2020',\n",
              "  'Link': 'https://www.mitma.gob.es/organos-colegiados/ciaiac/ultraligeros-motorizados-ulm/2020/ulm-0072020',\n",
              "  'Lugar': 'Término Municipal de Aibar/Oibar (Navarra)',\n",
              "  'Matricula': 'EC-FM8',\n",
              "  'Ref': 'ULM A-007/2020'},\n",
              " {'Aeronave': 'Aeronave EVEKTOR modelo EV-97 EUROSTAR',\n",
              "  'Fecha': '04 de julio de 2020',\n",
              "  'Link': 'https://www.mitma.gob.es/organos-colegiados/ciaiac/ultraligeros-motorizados-ulm/2020/ulm-A0082020',\n",
              "  'Lugar': 'Aeródromo de Villaframil (Lugo)',\n",
              "  'Matricula': 'EC-JYZ',\n",
              "  'Ref': 'ULM A-008/2020'},\n",
              " {'Aeronave': 'Aeronave ELA modelo ELA-07 R-115',\n",
              "  'Fecha': '09 de julio de 2020',\n",
              "  'Link': 'https://www.mitma.gob.es/organos-colegiados/ciaiac/ultraligeros-motorizados-ulm/2020/ulm-A0092020',\n",
              "  'Lugar': 'Aeródromo de Villanueva de Gállego (Zaragoza)',\n",
              "  'Matricula': 'EC-GF2',\n",
              "  'Ref': 'ULM A-009/2020'},\n",
              " {'Aeronave': 'Aeronave DYNALI modelo H3 EASY FLYER \"SPORT\"',\n",
              "  'Fecha': '13 de julio de 2020',\n",
              "  'Link': 'https://www.mitma.gob.es/organos-colegiados/ciaiac/ultraligeros-motorizados-ulm/2020/ulm-A0102020',\n",
              "  'Lugar': 'Término Municipal de Ontígola (Toledo)',\n",
              "  'Matricula': 'EC-GS5',\n",
              "  'Ref': 'ULM A-010/2020'},\n",
              " {'Aeronave': 'Aeronave TECNAM modelo P96-G',\n",
              "  'Fecha': '08 de agosto de 2020',\n",
              "  'Link': 'https://www.mitma.gob.es/organos-colegiados/ciaiac/ultraligeros-motorizados-ulm/2020/ulm-A0112020',\n",
              "  'Lugar': 'Aeródromo E',\n",
              "  'Matricula': 'EC-ISU',\n",
              "  'Ref': 'Ref'},\n",
              " {'Aeronave': 'Aeronave AFICIONADO modelo TAKE OFF MERLIN',\n",
              "  'Fecha': '09 de agosto de 2020',\n",
              "  'Link': 'https://www.mitma.gob.es/organos-colegiados/ciaiac/ultraligeros-motorizados-ulm/2020/ulm-A0122020',\n",
              "  'Lugar': 'Aeródromo de Guillena (Sevilla)',\n",
              "  'Matricula': 'EC-ZUP',\n",
              "  'Ref': 'ULM A-012/2020'},\n",
              " {'Aeronave': 'Aeronave AFICIONADO modelo P96-G',\n",
              "  'Fecha': '27 de septiembre de 2020',\n",
              "  'Link': 'https://www.mitma.gob.es/organos-colegiados/ciaiac/ultraligeros-motorizados-ulm/2020/ulm-0132020',\n",
              "  'Lugar': 'Aeródromo La Juliana (Sevilla)',\n",
              "  'Matricula': 'EC-ZEK',\n",
              "  'Ref': 'ULM A-013/2020'},\n",
              " {'Aeronave': 'Aeronave QUICKSILVER modelo MXL-SPORT-II',\n",
              "  'Fecha': '20 de octubre de 2020',\n",
              "  'Link': 'https://www.mitma.gob.es/organos-colegiados/ciaiac/ultraligeros-motorizados-ulm/2020/a-014-2020',\n",
              "  'Lugar': 'Término Municipal de La Pobla Llarga (Valencia / València)',\n",
              "  'Matricula': 'EC-BB3',\n",
              "  'Ref': 'ULM A-014/2020'},\n",
              " {'Aeronave': 'Aeronave ICP modelo BINGO',\n",
              "  'Fecha': '13 de noviembre de 2020',\n",
              "  'Link': 'https://www.mitma.gob.es/organos-colegiados/ciaiac/ultraligeros-motorizados-ulm/2020/a-015/2020',\n",
              "  'Lugar': 'Aeródromo de Cortijo Grande (Almería)',\n",
              "  'Matricula': 'EC-EJ8',\n",
              "  'Ref': 'ULM A-015/2020'},\n",
              " {'Aeronave': 'Aeronave TECNAM modelo P96-G',\n",
              "  'Fecha': '22 de noviembre de 2020',\n",
              "  'Link': 'No link',\n",
              "  'Lugar': 'Aeródromo Eduardo Castellanos (Segovia)',\n",
              "  'Matricula': 'EC-ISU',\n",
              "  'Ref': 'ULM A-016/2020'},\n",
              " {'Aeronave': 'Aeronave AFICIONADO modelo SINUS 912',\n",
              "  'Fecha': '11 de diciembre de 2020',\n",
              "  'Link': 'No link',\n",
              "  'Lugar': 'Aeródromo de Avinyonet del Penedès (Barcelona)',\n",
              "  'Matricula': 'EC-ZTH',\n",
              "  'Ref': 'ULM A-017/2020'},\n",
              " {'Aeronave': 'Aeronave AFICIONADO modelo MINI-MAX EROS',\n",
              "  'Fecha': '13 de diciembre de 2020',\n",
              "  'Link': 'No link',\n",
              "  'Lugar': 'Término municipal de Oliva (Valencia / València)',\n",
              "  'Matricula': 'EC-ZQJ',\n",
              "  'Ref': 'ULM A-018/2020'}]"
            ]
          },
          "metadata": {
            "tags": []
          },
          "execution_count": 25
        }
      ]
    },
    {
      "cell_type": "code",
      "metadata": {
        "id": "44Cff5Waw3YY"
      },
      "source": [
        ""
      ],
      "execution_count": null,
      "outputs": []
    }
  ]
}